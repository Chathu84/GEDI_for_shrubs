# GEDI-NEON Shrubland Waveform Analysis Pipeline (CyVerse VICE compatible)

# === Cell 1: Install Required Packages (VICE Docker includes many, but for completeness) ===
!pip install geopandas laspy rasterio requests tqdm matplotlib pandas shapely

# === Cell 2: Imports ===
import os
import geopandas as gpd
import numpy as np
import matplotlib.pyplot as plt
import laspy
import requests
from shapely.geometry import Point
from tqdm import tqdm
import pandas as pd

# === Cell 3: Load GEDI Footprints ===
# Example input: GEDI L2A or L1B footprints as GeoJSON or shapefile
gedi_fp_path = "data/GEDI_footprints.geojson"  # replace with your actual file path
gedi_gdf = gpd.read_file(gedi_fp_path)

# === Cell 4: Load NEON Site Metadata (Shrub-Dominated) ===
# Filter NEON sites by vegetation type (manual list or metadata table)
shrub_sites = ["SRER", "ONAQ", "ABBY", "CPER", "KONZ"]  # Extend with other shrub NEON sites

# === Cell 5: Match GEDI Footprints with NEON AOP Site Bounds ===
# Load NEON site bounding boxes or AOP tile shapefiles
neon_bounds = gpd.read_file("data/NEON_AOP_tile_bounds.geojson")
neon_shrub_bounds = neon_bounds[neon_bounds['siteID'].isin(shrub_sites)]

# Spatial join to find GEDI footprints within NEON AOP tiles
gedi_neon_overlap = gpd.sjoin(gedi_gdf, neon_shrub_bounds, how="inner", predicate="intersects")
print(f"GEDI footprints overlapping NEON shrub sites: {len(gedi_neon_overlap)}")

# === Cell 6: Download NEON LiDAR Tiles for Overlapping Footprints ===
def download_neon_tile(site_id, year, tile_id, save_dir="data/neon_lidar"):
    os.makedirs(save_dir, exist_ok=True)
    url = f"https://data.neonscience.org/api/v0/data/DP1.30003.001/{site_id}/{year}"  # Modify as needed
    # You may use requests or curl inside Docker container
    # Example: use curl to download the tile (manual step or API parser)
    # Placeholder here for user download logic
    print(f"Download NEON tile manually or via API for: {site_id}, {tile_id}")

# === Cell 7: Extract NEON Points within GEDI Footprints ===
def extract_neon_points_in_footprint(las_file, footprint_geom, class_filter=[3,4,5]):
    with laspy.open(las_file) as lidar:
        points = lidar.read()
        mask = np.array([Point(x, y).within(footprint_geom) for x, y in zip(points.x, points.y)])
        if class_filter:
            class_mask = np.isin(points.classification, class_filter)
            final_mask = mask & class_mask
        else:
            final_mask = mask
        return points.z[final_mask]

# === Cell 8: Simulate GEDI-like Waveform ===
def simulate_waveform(z_values, bin_size=1.0, pulse_width=18.0):
    z_min = np.floor(np.min(z_values))
    z_max = np.ceil(np.max(z_values))
    bins = np.arange(z_min, z_max + bin_size, bin_size)
    waveform, _ = np.histogram(z_values, bins=bins)
    # Smooth with Gaussian
    pulse = np.exp(-0.5 * ((bins - np.mean(bins)) / (pulse_width / 2)) ** 2)
    pulse /= pulse.sum()
    waveform_smoothed = np.convolve(waveform, pulse, mode='same')
    return bins[:-1], waveform_smoothed

# === Cell 9: Extract RH Metrics ===
def derive_rh_metrics(waveform, bins):
    cumulative = np.cumsum(waveform)
    total = cumulative[-1]
    rh_metrics = {}
    for rh in [25, 50, 75, 98, 100]:
        threshold = total * (rh / 100.0)
        idx = np.searchsorted(cumulative, threshold)
        rh_metrics[f'RH{rh}'] = bins[idx] if idx < len(bins) else bins[-1]
    return rh_metrics

# === Cell 10: Visualize Waveform ===
def plot_waveform(bins, waveform, title="Simulated GEDI Waveform"):
    plt.plot(waveform[::-1], bins[::-1])
    plt.xlabel("Relative Energy")
    plt.ylabel("Height (m)")
    plt.title(title)
    plt.grid(True)
    plt.show()

# === Cell 11: Optional – Loop Over All Matches ===
# For each footprint, download tile, extract waveform, derive metrics (as needed)

# You can now run Cells 6–10 in sequence for each footprint to simulate and compare
# Next steps: integrate GEDI metrics (RH values) for comparison and correction using field plots
